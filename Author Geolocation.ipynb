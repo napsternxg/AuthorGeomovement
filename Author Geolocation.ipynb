{
 "cells": [
  {
   "cell_type": "code",
   "execution_count": 1,
   "metadata": {
    "collapsed": true
   },
   "outputs": [],
   "source": [
    "from __future__ import (absolute_import, division,\n",
    "                        print_function, unicode_literals)\n",
    "from builtins import *\n",
    "from io import open\n",
    "\n",
    "%matplotlib inline\n",
    "\n",
    "import numpy as np\n",
    "import pandas as pd\n",
    "import matplotlib.pyplot as plt\n",
    "import seaborn as sns\n",
    "\n",
    "from sklearn.linear_model import SGDClassifier, LogisticRegression\n",
    "from sklearn.pipeline import Pipeline\n",
    "from sklearn.base import BaseEstimator, TransformerMixin\n",
    "from patsy import dmatrix, dmatrices, EvalEnvironment, ModelDesc, INTERCEPT\n",
    "\n",
    "sns.set_context(\"paper\")\n",
    "sns.set_style(\"ticks\")\n",
    "\n",
    "from collections import Counter\n",
    "import re"
   ]
  },
  {
   "cell_type": "code",
   "execution_count": 2,
   "metadata": {
    "collapsed": false
   },
   "outputs": [
    {
     "name": "stdout",
     "output_type": "stream",
     "text": [
      "(49043, 20)\n"
     ]
    }
   ],
   "source": [
    "df = pd.read_csv(\"data/export_papers_964.txt?sequence=5\", sep=\"\\t\")\n",
    "print(df.shape)"
   ]
  },
  {
   "cell_type": "code",
   "execution_count": 3,
   "metadata": {
    "collapsed": false
   },
   "outputs": [
    {
     "data": {
      "text/html": [
       "<div>\n",
       "<table border=\"1\" class=\"dataframe\">\n",
       "  <thead>\n",
       "    <tr style=\"text-align: right;\">\n",
       "      <th></th>\n",
       "      <th>AUID</th>\n",
       "      <th>PMID</th>\n",
       "      <th>Position</th>\n",
       "      <th>Year</th>\n",
       "      <th>Title</th>\n",
       "      <th>Authors</th>\n",
       "      <th>Journal</th>\n",
       "      <th>Volume</th>\n",
       "      <th>Issue</th>\n",
       "      <th>Pages</th>\n",
       "      <th>Last Name</th>\n",
       "      <th>First Name</th>\n",
       "      <th>Affiliation</th>\n",
       "      <th>City</th>\n",
       "      <th>State</th>\n",
       "      <th>Country</th>\n",
       "      <th>Institute type</th>\n",
       "      <th>Latitude</th>\n",
       "      <th>Longitude</th>\n",
       "      <th>Mesh Terms</th>\n",
       "    </tr>\n",
       "  </thead>\n",
       "  <tbody>\n",
       "    <tr>\n",
       "      <th>0</th>\n",
       "      <td>101462_4</td>\n",
       "      <td>18729633</td>\n",
       "      <td>4</td>\n",
       "      <td>2008</td>\n",
       "      <td>Effects of chronic estradiol treatment on dela...</td>\n",
       "      <td>14600290_2|15353173_1|9020311_1|101462_4|51783...</td>\n",
       "      <td>Behav Neurosci</td>\n",
       "      <td>122</td>\n",
       "      <td>4</td>\n",
       "      <td>794-804</td>\n",
       "      <td>Allred</td>\n",
       "      <td>Clinton</td>\n",
       "      <td>-</td>\n",
       "      <td>-</td>\n",
       "      <td>-</td>\n",
       "      <td>-</td>\n",
       "      <td>-</td>\n",
       "      <td>-</td>\n",
       "      <td>-</td>\n",
       "      <td>Analysis of Variance|Animals|Behavior, Animal|...</td>\n",
       "    </tr>\n",
       "    <tr>\n",
       "      <th>1</th>\n",
       "      <td>101462_4</td>\n",
       "      <td>18203887</td>\n",
       "      <td>1</td>\n",
       "      <td>2008</td>\n",
       "      <td>PPARgamma1 as a molecular target of eicosapent...</td>\n",
       "      <td>101462_4|17453334_1|10601471_2|12242035_1|2430...</td>\n",
       "      <td>J Nutr</td>\n",
       "      <td>138</td>\n",
       "      <td>2</td>\n",
       "      <td>250-6</td>\n",
       "      <td>Allred</td>\n",
       "      <td>Clinton</td>\n",
       "      <td>Department of Nutrition and Food Science, Texa...</td>\n",
       "      <td>College Station, TX, USA</td>\n",
       "      <td>TX</td>\n",
       "      <td>USA</td>\n",
       "      <td>EDU</td>\n",
       "      <td>30.621</td>\n",
       "      <td>-96.326</td>\n",
       "      <td>Anilides|Cell Proliferation|Colonic Neoplasms|...</td>\n",
       "    </tr>\n",
       "    <tr>\n",
       "      <th>2</th>\n",
       "      <td>101462_4</td>\n",
       "      <td>18057390</td>\n",
       "      <td>6</td>\n",
       "      <td>2008</td>\n",
       "      <td>Effect of posterior cruciate ligament deficien...</td>\n",
       "      <td>8707798_2|15701610_2|18057390_3|16813450_1|165...</td>\n",
       "      <td>Am J Sports Med</td>\n",
       "      <td>36</td>\n",
       "      <td>3</td>\n",
       "      <td>474-9</td>\n",
       "      <td>Allred</td>\n",
       "      <td>Dain</td>\n",
       "      <td>-</td>\n",
       "      <td>-</td>\n",
       "      <td>-</td>\n",
       "      <td>-</td>\n",
       "      <td>-</td>\n",
       "      <td>-</td>\n",
       "      <td>-</td>\n",
       "      <td>Adult|Case-Control Studies|Female|Humans|Knee ...</td>\n",
       "    </tr>\n",
       "    <tr>\n",
       "      <th>3</th>\n",
       "      <td>101462_4</td>\n",
       "      <td>17902047</td>\n",
       "      <td>3</td>\n",
       "      <td>2008</td>\n",
       "      <td>MAZ drives tumor-specific expression of PPAR g...</td>\n",
       "      <td>12242035_1|10601471_2|101462_4|17453334_1|1002...</td>\n",
       "      <td>Breast Cancer Res Treat</td>\n",
       "      <td>111</td>\n",
       "      <td>1</td>\n",
       "      <td>103-11</td>\n",
       "      <td>Allred</td>\n",
       "      <td>Clinton</td>\n",
       "      <td>FROMPMC: Department of Molecular and Biomedica...</td>\n",
       "      <td>Lexington, KY, USA</td>\n",
       "      <td>KY</td>\n",
       "      <td>USA</td>\n",
       "      <td>EDU</td>\n",
       "      <td>38.049</td>\n",
       "      <td>-84.5</td>\n",
       "      <td>Blotting, Western|Breast Neoplasms|Cell Line, ...</td>\n",
       "    </tr>\n",
       "    <tr>\n",
       "      <th>4</th>\n",
       "      <td>101462_4</td>\n",
       "      <td>17453334</td>\n",
       "      <td>2</td>\n",
       "      <td>2008</td>\n",
       "      <td>Transactivation of ERalpha by Rosiglitazone in...</td>\n",
       "      <td>17453334_1|101462_4|17453334_3|2430908_1</td>\n",
       "      <td>Breast Cancer Res Treat</td>\n",
       "      <td>108</td>\n",
       "      <td>1</td>\n",
       "      <td>23-33</td>\n",
       "      <td>Allred</td>\n",
       "      <td>Clinton</td>\n",
       "      <td>-</td>\n",
       "      <td>-</td>\n",
       "      <td>-</td>\n",
       "      <td>-</td>\n",
       "      <td>-</td>\n",
       "      <td>-</td>\n",
       "      <td>-</td>\n",
       "      <td>Blotting, Western|Breast Neoplasms|Cell Line, ...</td>\n",
       "    </tr>\n",
       "  </tbody>\n",
       "</table>\n",
       "</div>"
      ],
      "text/plain": [
       "       AUID      PMID Position  Year  \\\n",
       "0  101462_4  18729633        4  2008   \n",
       "1  101462_4  18203887        1  2008   \n",
       "2  101462_4  18057390        6  2008   \n",
       "3  101462_4  17902047        3  2008   \n",
       "4  101462_4  17453334        2  2008   \n",
       "\n",
       "                                               Title  \\\n",
       "0  Effects of chronic estradiol treatment on dela...   \n",
       "1  PPARgamma1 as a molecular target of eicosapent...   \n",
       "2  Effect of posterior cruciate ligament deficien...   \n",
       "3  MAZ drives tumor-specific expression of PPAR g...   \n",
       "4  Transactivation of ERalpha by Rosiglitazone in...   \n",
       "\n",
       "                                             Authors                  Journal  \\\n",
       "0  14600290_2|15353173_1|9020311_1|101462_4|51783...           Behav Neurosci   \n",
       "1  101462_4|17453334_1|10601471_2|12242035_1|2430...                   J Nutr   \n",
       "2  8707798_2|15701610_2|18057390_3|16813450_1|165...          Am J Sports Med   \n",
       "3  12242035_1|10601471_2|101462_4|17453334_1|1002...  Breast Cancer Res Treat   \n",
       "4           17453334_1|101462_4|17453334_3|2430908_1  Breast Cancer Res Treat   \n",
       "\n",
       "  Volume Issue    Pages Last Name First Name  \\\n",
       "0    122     4  794-804    Allred    Clinton   \n",
       "1    138     2    250-6    Allred    Clinton   \n",
       "2     36     3    474-9    Allred       Dain   \n",
       "3    111     1   103-11    Allred    Clinton   \n",
       "4    108     1    23-33    Allred    Clinton   \n",
       "\n",
       "                                         Affiliation  \\\n",
       "0                                                  -   \n",
       "1  Department of Nutrition and Food Science, Texa...   \n",
       "2                                                  -   \n",
       "3  FROMPMC: Department of Molecular and Biomedica...   \n",
       "4                                                  -   \n",
       "\n",
       "                       City State Country Institute type Latitude Longitude  \\\n",
       "0                         -     -       -              -        -         -   \n",
       "1  College Station, TX, USA    TX     USA            EDU   30.621   -96.326   \n",
       "2                         -     -       -              -        -         -   \n",
       "3        Lexington, KY, USA    KY     USA            EDU   38.049     -84.5   \n",
       "4                         -     -       -              -        -         -   \n",
       "\n",
       "                                          Mesh Terms  \n",
       "0  Analysis of Variance|Animals|Behavior, Animal|...  \n",
       "1  Anilides|Cell Proliferation|Colonic Neoplasms|...  \n",
       "2  Adult|Case-Control Studies|Female|Humans|Knee ...  \n",
       "3  Blotting, Western|Breast Neoplasms|Cell Line, ...  \n",
       "4  Blotting, Western|Breast Neoplasms|Cell Line, ...  "
      ]
     },
     "execution_count": 3,
     "metadata": {},
     "output_type": "execute_result"
    }
   ],
   "source": [
    "df.head()"
   ]
  },
  {
   "cell_type": "code",
   "execution_count": 4,
   "metadata": {
    "collapsed": false
   },
   "outputs": [
    {
     "data": {
      "text/plain": [
       "Index([u'AUID', u'PMID', u'Position', u'Year', u'Title', u'Authors',\n",
       "       u'Journal', u'Volume', u'Issue', u'Pages', u'Last Name', u'First Name',\n",
       "       u'Affiliation', u'City', u'State', u'Country', u'Institute type',\n",
       "       u'Latitude', u'Longitude', u'Mesh Terms'],\n",
       "      dtype='object')"
      ]
     },
     "execution_count": 4,
     "metadata": {},
     "output_type": "execute_result"
    }
   ],
   "source": [
    "df.columns"
   ]
  },
  {
   "cell_type": "code",
   "execution_count": 5,
   "metadata": {
    "collapsed": false
   },
   "outputs": [
    {
     "data": {
      "text/html": [
       "<div>\n",
       "<table border=\"1\" class=\"dataframe\">\n",
       "  <thead>\n",
       "    <tr style=\"text-align: right;\">\n",
       "      <th></th>\n",
       "      <th>AUID</th>\n",
       "      <th>City</th>\n",
       "      <th>Year</th>\n",
       "      <th>Latitude</th>\n",
       "      <th>Longitude</th>\n",
       "      <th>Position</th>\n",
       "    </tr>\n",
       "  </thead>\n",
       "  <tbody>\n",
       "    <tr>\n",
       "      <th>1</th>\n",
       "      <td>101462_4</td>\n",
       "      <td>College Station, TX, USA</td>\n",
       "      <td>2008</td>\n",
       "      <td>30.621</td>\n",
       "      <td>-96.326</td>\n",
       "      <td>1</td>\n",
       "    </tr>\n",
       "    <tr>\n",
       "      <th>3</th>\n",
       "      <td>101462_4</td>\n",
       "      <td>Lexington, KY, USA</td>\n",
       "      <td>2008</td>\n",
       "      <td>38.049</td>\n",
       "      <td>-84.5</td>\n",
       "      <td>3</td>\n",
       "    </tr>\n",
       "    <tr>\n",
       "      <th>7</th>\n",
       "      <td>101462_4</td>\n",
       "      <td>Urbana-Champaign, IL, USA</td>\n",
       "      <td>2005</td>\n",
       "      <td>40.115</td>\n",
       "      <td>-88.193</td>\n",
       "      <td>1</td>\n",
       "    </tr>\n",
       "    <tr>\n",
       "      <th>8</th>\n",
       "      <td>101462_4</td>\n",
       "      <td>Lexington, KY, USA</td>\n",
       "      <td>2005</td>\n",
       "      <td>38.049</td>\n",
       "      <td>-84.5</td>\n",
       "      <td>1</td>\n",
       "    </tr>\n",
       "    <tr>\n",
       "      <th>9</th>\n",
       "      <td>101462_4</td>\n",
       "      <td>Urbana-Champaign, IL, USA</td>\n",
       "      <td>2004</td>\n",
       "      <td>40.115</td>\n",
       "      <td>-88.193</td>\n",
       "      <td>1</td>\n",
       "    </tr>\n",
       "  </tbody>\n",
       "</table>\n",
       "</div>"
      ],
      "text/plain": [
       "       AUID                       City  Year Latitude Longitude Position\n",
       "1  101462_4   College Station, TX, USA  2008   30.621   -96.326        1\n",
       "3  101462_4         Lexington, KY, USA  2008   38.049     -84.5        3\n",
       "7  101462_4  Urbana-Champaign, IL, USA  2005   40.115   -88.193        1\n",
       "8  101462_4         Lexington, KY, USA  2005   38.049     -84.5        1\n",
       "9  101462_4  Urbana-Champaign, IL, USA  2004   40.115   -88.193        1"
      ]
     },
     "execution_count": 5,
     "metadata": {},
     "output_type": "execute_result"
    }
   ],
   "source": [
    "df_filtered = df.ix[(df.Latitude != \"-\") & (df.Year != \"-\"), [\"AUID\", \"City\", \"Year\", \"Latitude\", \"Longitude\", \"Position\"]].copy()\n",
    "df_filtered.Year = df_filtered.Year.astype(\"int\")\n",
    "df_filtered.head()"
   ]
  },
  {
   "cell_type": "code",
   "execution_count": 6,
   "metadata": {
    "collapsed": false
   },
   "outputs": [
    {
     "data": {
      "text/html": [
       "<div>\n",
       "<table border=\"1\" class=\"dataframe\">\n",
       "  <thead>\n",
       "    <tr style=\"text-align: right;\">\n",
       "      <th></th>\n",
       "      <th>AUID</th>\n",
       "      <th>City</th>\n",
       "      <th>Year</th>\n",
       "      <th>Latitude</th>\n",
       "      <th>Longitude</th>\n",
       "      <th>Position</th>\n",
       "      <th>Weight</th>\n",
       "    </tr>\n",
       "  </thead>\n",
       "  <tbody>\n",
       "    <tr>\n",
       "      <th>1</th>\n",
       "      <td>101462_4</td>\n",
       "      <td>College Station, TX, USA</td>\n",
       "      <td>2008</td>\n",
       "      <td>30.621</td>\n",
       "      <td>-96.326</td>\n",
       "      <td>1</td>\n",
       "      <td>3</td>\n",
       "    </tr>\n",
       "    <tr>\n",
       "      <th>3</th>\n",
       "      <td>101462_4</td>\n",
       "      <td>Lexington, KY, USA</td>\n",
       "      <td>2008</td>\n",
       "      <td>38.049</td>\n",
       "      <td>-84.5</td>\n",
       "      <td>3</td>\n",
       "      <td>1</td>\n",
       "    </tr>\n",
       "    <tr>\n",
       "      <th>7</th>\n",
       "      <td>101462_4</td>\n",
       "      <td>Urbana-Champaign, IL, USA</td>\n",
       "      <td>2005</td>\n",
       "      <td>40.115</td>\n",
       "      <td>-88.193</td>\n",
       "      <td>1</td>\n",
       "      <td>3</td>\n",
       "    </tr>\n",
       "    <tr>\n",
       "      <th>8</th>\n",
       "      <td>101462_4</td>\n",
       "      <td>Lexington, KY, USA</td>\n",
       "      <td>2005</td>\n",
       "      <td>38.049</td>\n",
       "      <td>-84.5</td>\n",
       "      <td>1</td>\n",
       "      <td>3</td>\n",
       "    </tr>\n",
       "    <tr>\n",
       "      <th>9</th>\n",
       "      <td>101462_4</td>\n",
       "      <td>Urbana-Champaign, IL, USA</td>\n",
       "      <td>2004</td>\n",
       "      <td>40.115</td>\n",
       "      <td>-88.193</td>\n",
       "      <td>1</td>\n",
       "      <td>3</td>\n",
       "    </tr>\n",
       "  </tbody>\n",
       "</table>\n",
       "</div>"
      ],
      "text/plain": [
       "       AUID                       City  Year Latitude Longitude Position  \\\n",
       "1  101462_4   College Station, TX, USA  2008   30.621   -96.326        1   \n",
       "3  101462_4         Lexington, KY, USA  2008   38.049     -84.5        3   \n",
       "7  101462_4  Urbana-Champaign, IL, USA  2005   40.115   -88.193        1   \n",
       "8  101462_4         Lexington, KY, USA  2005   38.049     -84.5        1   \n",
       "9  101462_4  Urbana-Champaign, IL, USA  2004   40.115   -88.193        1   \n",
       "\n",
       "   Weight  \n",
       "1       3  \n",
       "3       1  \n",
       "7       3  \n",
       "8       3  \n",
       "9       3  "
      ]
     },
     "execution_count": 6,
     "metadata": {},
     "output_type": "execute_result"
    }
   ],
   "source": [
    "df_filtered[\"Weight\"] = df[\"Affiliation\"].str.contains(\"FROMPMC\").apply(lambda x: 1 if x else 3)\n",
    "df_filtered.head()"
   ]
  },
  {
   "cell_type": "code",
   "execution_count": 7,
   "metadata": {
    "collapsed": true
   },
   "outputs": [],
   "source": [
    "df_filtered.AUID = df_filtered.AUID.astype(\"category\")"
   ]
  },
  {
   "cell_type": "code",
   "execution_count": 8,
   "metadata": {
    "collapsed": false
   },
   "outputs": [
    {
     "data": {
      "text/plain": [
       "749"
      ]
     },
     "execution_count": 8,
     "metadata": {},
     "output_type": "execute_result"
    }
   ],
   "source": [
    "len(df_filtered.AUID.cat.categories)"
   ]
  },
  {
   "cell_type": "code",
   "execution_count": 9,
   "metadata": {
    "collapsed": true
   },
   "outputs": [],
   "source": [
    "def impute_cities(all_cities):\n",
    "    imputed_cities = {}\n",
    "    for i,c1 in enumerate(all_cities):\n",
    "        matches = 0\n",
    "        imputed = c1\n",
    "        for c2 in all_cities:\n",
    "            if c2 != c1 and c2.endswith(c1):\n",
    "                print(\"%s matches %s\" % (c1, c2))\n",
    "                matches += 1\n",
    "                imputed = c2\n",
    "        if matches == 1:\n",
    "            imputed_cities[c1] = imputed\n",
    "        else:\n",
    "            imputed_cities[c1] = c1\n",
    "    return imputed_cities\n",
    "            \n",
    "    "
   ]
  },
  {
   "cell_type": "code",
   "execution_count": 10,
   "metadata": {
    "collapsed": false
   },
   "outputs": [
    {
     "name": "stdout",
     "output_type": "stream",
     "text": [
      "Oslo, Norway matches ABC, Oslo, Norway\n"
     ]
    },
    {
     "data": {
      "text/plain": [
       "{u'ABC, Norway': u'ABC, Norway',\n",
       " u'ABC, Oslo, Norway': u'ABC, Oslo, Norway',\n",
       " u'Oslo, Norway': u'ABC, Oslo, Norway'}"
      ]
     },
     "execution_count": 10,
     "metadata": {},
     "output_type": "execute_result"
    }
   ],
   "source": [
    "impute_cities([\"Oslo, Norway\", \"ABC, Oslo, Norway\", \"ABC, Norway\"])"
   ]
  },
  {
   "cell_type": "code",
   "execution_count": 11,
   "metadata": {
    "collapsed": true
   },
   "outputs": [],
   "source": [
    "def get_model_data(df, auid):\n",
    "    data = df[df.AUID == auid].copy()\n",
    "    data.City = data.City.astype(\"category\")\n",
    "    all_cities = data.City.cat.categories\n",
    "    imputed_cities = impute_cities(all_cities)\n",
    "    data[\"YearIndex\"] = data[\"Year\"] - data[\"Year\"].min()\n",
    "    data[\"Imputed_City\"] = data.City.apply(\n",
    "        lambda x: imputed_cities[x]).astype(\"category\")\n",
    "    return data\n"
   ]
  },
  {
   "cell_type": "code",
   "execution_count": 12,
   "metadata": {
    "collapsed": false
   },
   "outputs": [
    {
     "data": {
      "text/html": [
       "<div>\n",
       "<table border=\"1\" class=\"dataframe\">\n",
       "  <thead>\n",
       "    <tr style=\"text-align: right;\">\n",
       "      <th></th>\n",
       "      <th>AUID</th>\n",
       "      <th>City</th>\n",
       "      <th>Year</th>\n",
       "      <th>Latitude</th>\n",
       "      <th>Longitude</th>\n",
       "      <th>Position</th>\n",
       "      <th>Weight</th>\n",
       "      <th>YearIndex</th>\n",
       "      <th>Imputed_City</th>\n",
       "    </tr>\n",
       "  </thead>\n",
       "  <tbody>\n",
       "    <tr>\n",
       "      <th>1</th>\n",
       "      <td>101462_4</td>\n",
       "      <td>College Station, TX, USA</td>\n",
       "      <td>2008</td>\n",
       "      <td>30.621</td>\n",
       "      <td>-96.326</td>\n",
       "      <td>1</td>\n",
       "      <td>3</td>\n",
       "      <td>30</td>\n",
       "      <td>College Station, TX, USA</td>\n",
       "    </tr>\n",
       "    <tr>\n",
       "      <th>3</th>\n",
       "      <td>101462_4</td>\n",
       "      <td>Lexington, KY, USA</td>\n",
       "      <td>2008</td>\n",
       "      <td>38.049</td>\n",
       "      <td>-84.5</td>\n",
       "      <td>3</td>\n",
       "      <td>1</td>\n",
       "      <td>30</td>\n",
       "      <td>Lexington, KY, USA</td>\n",
       "    </tr>\n",
       "    <tr>\n",
       "      <th>7</th>\n",
       "      <td>101462_4</td>\n",
       "      <td>Urbana-Champaign, IL, USA</td>\n",
       "      <td>2005</td>\n",
       "      <td>40.115</td>\n",
       "      <td>-88.193</td>\n",
       "      <td>1</td>\n",
       "      <td>3</td>\n",
       "      <td>27</td>\n",
       "      <td>Urbana-Champaign, IL, USA</td>\n",
       "    </tr>\n",
       "    <tr>\n",
       "      <th>8</th>\n",
       "      <td>101462_4</td>\n",
       "      <td>Lexington, KY, USA</td>\n",
       "      <td>2005</td>\n",
       "      <td>38.049</td>\n",
       "      <td>-84.5</td>\n",
       "      <td>1</td>\n",
       "      <td>3</td>\n",
       "      <td>27</td>\n",
       "      <td>Lexington, KY, USA</td>\n",
       "    </tr>\n",
       "    <tr>\n",
       "      <th>9</th>\n",
       "      <td>101462_4</td>\n",
       "      <td>Urbana-Champaign, IL, USA</td>\n",
       "      <td>2004</td>\n",
       "      <td>40.115</td>\n",
       "      <td>-88.193</td>\n",
       "      <td>1</td>\n",
       "      <td>3</td>\n",
       "      <td>26</td>\n",
       "      <td>Urbana-Champaign, IL, USA</td>\n",
       "    </tr>\n",
       "    <tr>\n",
       "      <th>10</th>\n",
       "      <td>101462_4</td>\n",
       "      <td>Urbana-Champaign, IL, USA</td>\n",
       "      <td>2004</td>\n",
       "      <td>40.115</td>\n",
       "      <td>-88.193</td>\n",
       "      <td>1</td>\n",
       "      <td>3</td>\n",
       "      <td>26</td>\n",
       "      <td>Urbana-Champaign, IL, USA</td>\n",
       "    </tr>\n",
       "    <tr>\n",
       "      <th>14</th>\n",
       "      <td>101462_4</td>\n",
       "      <td>Urbana-Champaign, IL, USA</td>\n",
       "      <td>2001</td>\n",
       "      <td>40.115</td>\n",
       "      <td>-88.193</td>\n",
       "      <td>1</td>\n",
       "      <td>3</td>\n",
       "      <td>23</td>\n",
       "      <td>Urbana-Champaign, IL, USA</td>\n",
       "    </tr>\n",
       "    <tr>\n",
       "      <th>15</th>\n",
       "      <td>101462_4</td>\n",
       "      <td>Boston, MA, USA</td>\n",
       "      <td>2001</td>\n",
       "      <td>42.359</td>\n",
       "      <td>-71.057</td>\n",
       "      <td>1</td>\n",
       "      <td>3</td>\n",
       "      <td>23</td>\n",
       "      <td>Boston, MA, USA</td>\n",
       "    </tr>\n",
       "    <tr>\n",
       "      <th>16</th>\n",
       "      <td>101462_4</td>\n",
       "      <td>Urbana-Champaign, IL, USA</td>\n",
       "      <td>2001</td>\n",
       "      <td>40.115</td>\n",
       "      <td>-88.193</td>\n",
       "      <td>1</td>\n",
       "      <td>3</td>\n",
       "      <td>23</td>\n",
       "      <td>Urbana-Champaign, IL, USA</td>\n",
       "    </tr>\n",
       "    <tr>\n",
       "      <th>19</th>\n",
       "      <td>101462_4</td>\n",
       "      <td>San Antonio, TX, USA</td>\n",
       "      <td>1997</td>\n",
       "      <td>29.424</td>\n",
       "      <td>-98.495</td>\n",
       "      <td>2</td>\n",
       "      <td>1</td>\n",
       "      <td>19</td>\n",
       "      <td>San Antonio, TX, USA</td>\n",
       "    </tr>\n",
       "    <tr>\n",
       "      <th>26</th>\n",
       "      <td>101462_4</td>\n",
       "      <td>Salt Lake City, UT, USA</td>\n",
       "      <td>1978</td>\n",
       "      <td>40.76</td>\n",
       "      <td>-111.888</td>\n",
       "      <td>1</td>\n",
       "      <td>1</td>\n",
       "      <td>0</td>\n",
       "      <td>Salt Lake City, UT, USA</td>\n",
       "    </tr>\n",
       "  </tbody>\n",
       "</table>\n",
       "</div>"
      ],
      "text/plain": [
       "        AUID                       City  Year Latitude Longitude Position  \\\n",
       "1   101462_4   College Station, TX, USA  2008   30.621   -96.326        1   \n",
       "3   101462_4         Lexington, KY, USA  2008   38.049     -84.5        3   \n",
       "7   101462_4  Urbana-Champaign, IL, USA  2005   40.115   -88.193        1   \n",
       "8   101462_4         Lexington, KY, USA  2005   38.049     -84.5        1   \n",
       "9   101462_4  Urbana-Champaign, IL, USA  2004   40.115   -88.193        1   \n",
       "10  101462_4  Urbana-Champaign, IL, USA  2004   40.115   -88.193        1   \n",
       "14  101462_4  Urbana-Champaign, IL, USA  2001   40.115   -88.193        1   \n",
       "15  101462_4            Boston, MA, USA  2001   42.359   -71.057        1   \n",
       "16  101462_4  Urbana-Champaign, IL, USA  2001   40.115   -88.193        1   \n",
       "19  101462_4       San Antonio, TX, USA  1997   29.424   -98.495        2   \n",
       "26  101462_4    Salt Lake City, UT, USA  1978    40.76  -111.888        1   \n",
       "\n",
       "    Weight  YearIndex               Imputed_City  \n",
       "1        3         30   College Station, TX, USA  \n",
       "3        1         30         Lexington, KY, USA  \n",
       "7        3         27  Urbana-Champaign, IL, USA  \n",
       "8        3         27         Lexington, KY, USA  \n",
       "9        3         26  Urbana-Champaign, IL, USA  \n",
       "10       3         26  Urbana-Champaign, IL, USA  \n",
       "14       3         23  Urbana-Champaign, IL, USA  \n",
       "15       3         23            Boston, MA, USA  \n",
       "16       3         23  Urbana-Champaign, IL, USA  \n",
       "19       1         19       San Antonio, TX, USA  \n",
       "26       1          0    Salt Lake City, UT, USA  "
      ]
     },
     "execution_count": 12,
     "metadata": {},
     "output_type": "execute_result"
    }
   ],
   "source": [
    "auid = \"101462_4\"\n",
    "data = get_model_data(df_filtered, auid)\n",
    "data"
   ]
  },
  {
   "cell_type": "code",
   "execution_count": 13,
   "metadata": {
    "collapsed": true
   },
   "outputs": [],
   "source": [
    "def _drop_intercept(formula, add_intercept):\n",
    "    \"\"\"Drop the intercept from formula if not add_intercept\"\"\"\n",
    "    if not add_intercept:\n",
    "        if not isinstance(formula, ModelDesc):\n",
    "            formula = ModelDesc.from_formula(formula)\n",
    "        if INTERCEPT in formula.rhs_termlist:\n",
    "            formula.rhs_termlist.remove(INTERCEPT)\n",
    "        return formula\n",
    "    return formula\n",
    "\n",
    "\n",
    "class PatsyTransformer(BaseEstimator, TransformerMixin):\n",
    "    def __init__(self, formula, add_intercept=False, eval_env=0, NA_action=\"drop\",\n",
    "                 return_type='ndarray'):\n",
    "        self.formula = formula\n",
    "        self.eval_env = eval_env\n",
    "        self.add_intercept = add_intercept\n",
    "        self.NA_action = NA_action\n",
    "        self.return_type = return_type\n",
    "    \n",
    "    def fit(self, data, y=None):\n",
    "        self._fit_transform(data, y)\n",
    "        return self\n",
    "    \n",
    "    def fit_transform(self, data, y=None):\n",
    "        return self._fit_transform(data, y)\n",
    "    \n",
    "    def _fit_transform(self, data, y=None):\n",
    "        eval_env = EvalEnvironment.capture(self.eval_env, reference=2)\n",
    "        formula = _drop_intercept(self.formula, self.add_intercept)\n",
    "\n",
    "        design = dmatrix(formula, data, eval_env=eval_env,\n",
    "                         return_type='dataframe')\n",
    "        self.design_ = design.design_info\n",
    "\n",
    "        if self.return_type == 'dataframe':\n",
    "            return design\n",
    "        else:\n",
    "            return np.array(design)\n",
    "\n",
    "        self.feature_names_ = design.design_info.column_names\n",
    "        return np.array(design)\n",
    "\n",
    "    def transform(self, data):\n",
    "        if self.return_type == 'dataframe':\n",
    "            return dmatrix(self.design_, data, return_type='dataframe')\n",
    "        else:\n",
    "            return np.array(dmatrix(self.design_, data))\n",
    "        "
   ]
  },
  {
   "cell_type": "code",
   "execution_count": 14,
   "metadata": {
    "collapsed": true
   },
   "outputs": [],
   "source": [
    "def fit_models(df, auid):\n",
    "    data = get_model_data(df, auid)\n",
    "    models = {}\n",
    "    first_year = data.Year.min()\n",
    "    predict_y = pd.DataFrame(np.arange(data.YearIndex.min(), data.YearIndex.max() + 1)[:, np.newaxis], columns=[\"YearIndex\"])\n",
    "    predictions = predict_y.copy() + first_year\n",
    "    for c in data.Imputed_City.cat.categories:\n",
    "        formula = \"YearIndex + I(YearIndex**2)\"\n",
    "        clf = Pipeline([\n",
    "                (\"patsy_df\", PatsyTransformer(formula, return_type=\"dataframe\")),\n",
    "                (\"clf\", LogisticRegression(solver=\"lbfgs\"))\n",
    "            ])\n",
    "        clf.fit(data, (data.Imputed_City == c), clf__sample_weight=data.Weight.values)\n",
    "        print(\"%s\\tFormula=%s\" % (c, formula))\n",
    "        models[c] = clf\n",
    "        y_pred = clf.predict_proba(predict_y)[:, 1]\n",
    "        predictions[c] = y_pred\n",
    "    return predictions, models"
   ]
  },
  {
   "cell_type": "code",
   "execution_count": 15,
   "metadata": {
    "collapsed": false
   },
   "outputs": [
    {
     "name": "stdout",
     "output_type": "stream",
     "text": [
      "Boston, MA, USA\tFormula=YearIndex + I(YearIndex**2)\n",
      "College Station, TX, USA\tFormula=YearIndex + I(YearIndex**2)\n",
      "Lexington, KY, USA\tFormula=YearIndex + I(YearIndex**2)\n",
      "Salt Lake City, UT, USA\tFormula=YearIndex + I(YearIndex**2)\n",
      "San Antonio, TX, USA\tFormula=YearIndex + I(YearIndex**2)\n",
      "Urbana-Champaign, IL, USA\tFormula=YearIndex + I(YearIndex**2)\n"
     ]
    }
   ],
   "source": [
    "auid = \"101462_4\"\n",
    "predictions, models = fit_models(df_filtered, auid)"
   ]
  },
  {
   "cell_type": "code",
   "execution_count": 16,
   "metadata": {
    "collapsed": false
   },
   "outputs": [
    {
     "data": {
      "text/plain": [
       "<matplotlib.axes._subplots.AxesSubplot at 0x7f87d92d7310>"
      ]
     },
     "execution_count": 16,
     "metadata": {},
     "output_type": "execute_result"
    },
    {
     "data": {
      "image/png": "[encoded data removed]",
      "text/plain": [
       "<matplotlib.figure.Figure at 0x7f87d6f0df10>"
      ]
     },
     "metadata": {},
     "output_type": "display_data"
    }
   ],
   "source": [
    "predictions.plot(x=\"YearIndex\")"
   ]
  },
  {
   "cell_type": "code",
   "execution_count": 17,
   "metadata": {
    "collapsed": false
   },
   "outputs": [],
   "source": [
    "def fit_models_pos(df, auid):\n",
    "    data = get_model_data(df, auid)\n",
    "    models = {}\n",
    "    first_year = data.Year.min()\n",
    "    predict_y = pd.DataFrame(np.arange(data.YearIndex.min(), data.YearIndex.max() + 1)[:, np.newaxis], columns=[\"YearIndex\"])\n",
    "    predictions = predict_y.copy() + first_year\n",
    "    sample_weight = (data.Weight.values * data.Position.apply(lambda x: 3 if x == 1 else 1).values)\n",
    "    for c in data.Imputed_City.cat.categories:\n",
    "        formula = \"YearIndex + I(YearIndex**2)\"\n",
    "        clf = Pipeline([\n",
    "                (\"patsy_df\", PatsyTransformer(formula, return_type=\"dataframe\")),\n",
    "                (\"clf\", LogisticRegression(solver=\"lbfgs\"))\n",
    "            ])\n",
    "        clf.fit(data, (data.Imputed_City == c), clf__sample_weight=sample_weight)\n",
    "        print(\"%s\\tFormula=%s\" % (c, formula))\n",
    "        models[c] = clf\n",
    "        y_pred = clf.predict_proba(predict_y)[:, 1]\n",
    "        predictions[c] = y_pred\n",
    "    return predictions, models"
   ]
  },
  {
   "cell_type": "code",
   "execution_count": 18,
   "metadata": {
    "collapsed": false
   },
   "outputs": [
    {
     "name": "stdout",
     "output_type": "stream",
     "text": [
      "Boston, MA, USA\tFormula=YearIndex + I(YearIndex**2)\n",
      "College Station, TX, USA\tFormula=YearIndex + I(YearIndex**2)\n",
      "Lexington, KY, USA\tFormula=YearIndex + I(YearIndex**2)\n",
      "Salt Lake City, UT, USA\tFormula=YearIndex + I(YearIndex**2)\n",
      "San Antonio, TX, USA\tFormula=YearIndex + I(YearIndex**2)\n",
      "Urbana-Champaign, IL, USA\tFormula=YearIndex + I(YearIndex**2)\n"
     ]
    }
   ],
   "source": [
    "auid = \"101462_4\"\n",
    "predictions, models = fit_models_pos(df_filtered, auid)"
   ]
  },
  {
   "cell_type": "code",
   "execution_count": 19,
   "metadata": {
    "collapsed": false
   },
   "outputs": [
    {
     "data": {
      "text/plain": [
       "<matplotlib.axes._subplots.AxesSubplot at 0x7f87d6f0dc50>"
      ]
     },
     "execution_count": 19,
     "metadata": {},
     "output_type": "execute_result"
    },
    {
     "data": {
      "image/png": "[encoded data removed]",
      "text/plain": [
       "<matplotlib.figure.Figure at 0x7f87d6f1ea10>"
      ]
     },
     "metadata": {},
     "output_type": "display_data"
    }
   ],
   "source": [
    "predictions.plot(x=\"YearIndex\")"
   ]
  },
  {
   "cell_type": "code",
   "execution_count": 20,
   "metadata": {
    "collapsed": false
   },
   "outputs": [
    {
     "data": {
      "text/html": [
       "<div>\n",
       "<table border=\"1\" class=\"dataframe\">\n",
       "  <thead>\n",
       "    <tr style=\"text-align: right;\">\n",
       "      <th></th>\n",
       "      <th>YearIndex</th>\n",
       "      <th>Boston, MA, USA</th>\n",
       "      <th>College Station, TX, USA</th>\n",
       "      <th>Lexington, KY, USA</th>\n",
       "      <th>Salt Lake City, UT, USA</th>\n",
       "      <th>San Antonio, TX, USA</th>\n",
       "      <th>Urbana-Champaign, IL, USA</th>\n",
       "    </tr>\n",
       "  </thead>\n",
       "  <tbody>\n",
       "    <tr>\n",
       "      <th>0</th>\n",
       "      <td>1978</td>\n",
       "      <td>0.025507</td>\n",
       "      <td>5.055104e-25</td>\n",
       "      <td>0.000027</td>\n",
       "      <td>0.999864</td>\n",
       "      <td>0.110085</td>\n",
       "      <td>0.000029</td>\n",
       "    </tr>\n",
       "    <tr>\n",
       "      <th>1</th>\n",
       "      <td>1979</td>\n",
       "      <td>0.045609</td>\n",
       "      <td>5.391670e-25</td>\n",
       "      <td>0.000035</td>\n",
       "      <td>0.999857</td>\n",
       "      <td>0.269519</td>\n",
       "      <td>0.000082</td>\n",
       "    </tr>\n",
       "    <tr>\n",
       "      <th>2</th>\n",
       "      <td>1980</td>\n",
       "      <td>0.076953</td>\n",
       "      <td>6.527332e-25</td>\n",
       "      <td>0.000046</td>\n",
       "      <td>0.999833</td>\n",
       "      <td>0.497576</td>\n",
       "      <td>0.000221</td>\n",
       "    </tr>\n",
       "    <tr>\n",
       "      <th>3</th>\n",
       "      <td>1981</td>\n",
       "      <td>0.122009</td>\n",
       "      <td>8.969483e-25</td>\n",
       "      <td>0.000061</td>\n",
       "      <td>0.999786</td>\n",
       "      <td>0.705209</td>\n",
       "      <td>0.000566</td>\n",
       "    </tr>\n",
       "    <tr>\n",
       "      <th>4</th>\n",
       "      <td>1982</td>\n",
       "      <td>0.181219</td>\n",
       "      <td>1.399002e-24</td>\n",
       "      <td>0.000080</td>\n",
       "      <td>0.999698</td>\n",
       "      <td>0.838717</td>\n",
       "      <td>0.001378</td>\n",
       "    </tr>\n",
       "  </tbody>\n",
       "</table>\n",
       "</div>"
      ],
      "text/plain": [
       "   YearIndex  Boston, MA, USA  College Station, TX, USA  Lexington, KY, USA  \\\n",
       "0       1978         0.025507              5.055104e-25            0.000027   \n",
       "1       1979         0.045609              5.391670e-25            0.000035   \n",
       "2       1980         0.076953              6.527332e-25            0.000046   \n",
       "3       1981         0.122009              8.969483e-25            0.000061   \n",
       "4       1982         0.181219              1.399002e-24            0.000080   \n",
       "\n",
       "   Salt Lake City, UT, USA  San Antonio, TX, USA  Urbana-Champaign, IL, USA  \n",
       "0                 0.999864              0.110085                   0.000029  \n",
       "1                 0.999857              0.269519                   0.000082  \n",
       "2                 0.999833              0.497576                   0.000221  \n",
       "3                 0.999786              0.705209                   0.000566  \n",
       "4                 0.999698              0.838717                   0.001378  "
      ]
     },
     "execution_count": 20,
     "metadata": {},
     "output_type": "execute_result"
    }
   ],
   "source": [
    "predictions.head()"
   ]
  },
  {
   "cell_type": "code",
   "execution_count": 21,
   "metadata": {
    "collapsed": false
   },
   "outputs": [],
   "source": [
    "predictions_indexed = predictions.set_index(\"YearIndex\").idxmax(axis=1)"
   ]
  },
  {
   "cell_type": "code",
   "execution_count": 22,
   "metadata": {
    "collapsed": false
   },
   "outputs": [
    {
     "data": {
      "text/plain": [
       "YearIndex\n",
       "1978    Salt Lake City, UT, USA\n",
       "1979    Salt Lake City, UT, USA\n",
       "1980    Salt Lake City, UT, USA\n",
       "1981    Salt Lake City, UT, USA\n",
       "1982    Salt Lake City, UT, USA\n",
       "dtype: object"
      ]
     },
     "execution_count": 22,
     "metadata": {},
     "output_type": "execute_result"
    }
   ],
   "source": [
    "predictions_indexed.head()"
   ]
  },
  {
   "cell_type": "code",
   "execution_count": 23,
   "metadata": {
    "collapsed": false
   },
   "outputs": [
    {
     "data": {
      "text/html": [
       "<div>\n",
       "<table border=\"1\" class=\"dataframe\">\n",
       "  <thead>\n",
       "    <tr style=\"text-align: right;\">\n",
       "      <th></th>\n",
       "      <th>index</th>\n",
       "      <th>0</th>\n",
       "    </tr>\n",
       "  </thead>\n",
       "  <tbody>\n",
       "    <tr>\n",
       "      <th>0</th>\n",
       "      <td>College Station, TX, USA</td>\n",
       "      <td>(2008, 2008)</td>\n",
       "    </tr>\n",
       "    <tr>\n",
       "      <th>1</th>\n",
       "      <td>Salt Lake City, UT, USA</td>\n",
       "      <td>(1978, 1987)</td>\n",
       "    </tr>\n",
       "    <tr>\n",
       "      <th>2</th>\n",
       "      <td>San Antonio, TX, USA</td>\n",
       "      <td>(1988, 1996)</td>\n",
       "    </tr>\n",
       "    <tr>\n",
       "      <th>3</th>\n",
       "      <td>Urbana-Champaign, IL, USA</td>\n",
       "      <td>(1997, 2007)</td>\n",
       "    </tr>\n",
       "  </tbody>\n",
       "</table>\n",
       "</div>"
      ],
      "text/plain": [
       "                       index             0\n",
       "0   College Station, TX, USA  (2008, 2008)\n",
       "1    Salt Lake City, UT, USA  (1978, 1987)\n",
       "2       San Antonio, TX, USA  (1988, 1996)\n",
       "3  Urbana-Champaign, IL, USA  (1997, 2007)"
      ]
     },
     "execution_count": 23,
     "metadata": {},
     "output_type": "execute_result"
    }
   ],
   "source": [
    "predictions_indexed.groupby(predictions_indexed).apply(lambda x: (x.index.min(), x.index.max())).reset_index()"
   ]
  },
  {
   "cell_type": "code",
   "execution_count": null,
   "metadata": {
    "collapsed": true
   },
   "outputs": [],
   "source": []
  }
 ],
 "metadata": {
  "anaconda-cloud": {},
  "kernelspec": {
   "display_name": "Python [default]",
   "language": "python",
   "name": "python2"
  },
  "language_info": {
   "codemirror_mode": {
    "name": "ipython",
    "version": 2
   },
   "file_extension": ".py",
   "mimetype": "text/x-python",
   "name": "python",
   "nbconvert_exporter": "python",
   "pygments_lexer": "ipython2",
   "version": "2.7.12"
  }
 },
 "nbformat": 4,
 "nbformat_minor": 1
}
